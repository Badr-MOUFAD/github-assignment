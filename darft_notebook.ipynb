{
 "cells": [
  {
   "cell_type": "code",
   "execution_count": 1,
   "metadata": {},
   "outputs": [],
   "source": [
    "import math as m\n",
    "import numpy as np\n",
    "\n",
    "import pytest\n",
    "from numpy_questions import wallis_product, max_index"
   ]
  },
  {
   "cell_type": "code",
   "execution_count": 6,
   "metadata": {},
   "outputs": [],
   "source": [
    "def test_max_index():\n",
    "    X = np.array([[0, 1], [2, 0]])\n",
    "    assert max_index(X) == (1, 0)\n",
    "\n",
    "    X = np.random.randn(100, 100)\n",
    "    i, j = max_index(X)\n",
    "    assert np.all(X[i, j] >= X)\n",
    "\n",
    "    with pytest.raises(ValueError):\n",
    "        max_index(None)\n",
    "\n",
    "    with pytest.raises(ValueError):\n",
    "        max_index([[0, 1], [2, 0]])\n",
    "\n",
    "    with pytest.raises(ValueError):\n",
    "        max_index(np.array([0, 1]))"
   ]
  },
  {
   "cell_type": "code",
   "execution_count": 3,
   "metadata": {},
   "outputs": [],
   "source": [
    "def test_wallis_product():\n",
    "    pi_approx = wallis_product(0)\n",
    "    assert pi_approx == 2.\n",
    "\n",
    "    pi_approx = wallis_product(1)\n",
    "    assert pi_approx == 8 / 3\n",
    "\n",
    "    pi_approx = wallis_product(100000)\n",
    "    assert abs(pi_approx - m.pi) < 1e-4"
   ]
  },
  {
   "cell_type": "code",
   "execution_count": 4,
   "metadata": {},
   "outputs": [],
   "source": [
    "# ##################################################\n",
    "# YOU SHOULD NOT TOUCH THIS FILE !\n",
    "# ##################################################\n",
    "\n",
    "from sklearn.utils.estimator_checks import check_estimator\n",
    "from sklearn.model_selection import train_test_split\n",
    "from sklearn.datasets import make_classification\n",
    "from sklearn.neighbors import KNeighborsClassifier\n",
    "\n",
    "from sklearn_questions import OneNearestNeighbor\n",
    "\n",
    "from numpy.testing import assert_array_equal\n",
    "\n",
    "\n",
    "def test_one_nearest_neighbor_check_estimator():\n",
    "    check_estimator(OneNearestNeighbor())\n",
    "\n",
    "\n",
    "def test_one_nearest_neighbor_match_sklearn():\n",
    "    X, y = make_classification(n_samples=200, n_features=20,\n",
    "                               random_state=42)\n",
    "    X_train, X_test, y_train, y_test = \\\n",
    "        train_test_split(X, y, random_state=42)\n",
    "    knn = KNeighborsClassifier(n_neighbors=1)\n",
    "    y_pred_sk = knn.fit(X_train, y_train).predict(X_test)\n",
    "\n",
    "    onn = OneNearestNeighbor()\n",
    "    y_pred_me = onn.fit(X_train, y_train).predict(X_test)\n",
    "    assert_array_equal(y_pred_me, y_pred_sk)\n",
    "\n",
    "    assert onn.score(X_test, y_test) == knn.score(X_test, y_test)"
   ]
  }
 ],
 "metadata": {
  "interpreter": {
   "hash": "1e915f0a29dc84041eaeb02b7b1a21c440e37a87b61d44d5e84a515737dc82bc"
  },
  "kernelspec": {
   "display_name": "Python 3.8.5 64-bit ('base': conda)",
   "language": "python",
   "name": "python3"
  },
  "language_info": {
   "codemirror_mode": {
    "name": "ipython",
    "version": 3
   },
   "file_extension": ".py",
   "mimetype": "text/x-python",
   "name": "python",
   "nbconvert_exporter": "python",
   "pygments_lexer": "ipython3",
   "version": "3.8.5"
  },
  "orig_nbformat": 4
 },
 "nbformat": 4,
 "nbformat_minor": 2
}
